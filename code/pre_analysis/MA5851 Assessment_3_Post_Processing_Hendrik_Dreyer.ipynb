{
 "cells": [
  {
   "cell_type": "code",
   "execution_count": 1,
   "metadata": {},
   "outputs": [],
   "source": [
    "### Subject: MA5851 - Data Science Master Class I \n",
    "### Author: Hendrik A. Dreyer\n",
    "### Due Date: 1 December 2019"
   ]
  },
  {
   "cell_type": "code",
   "execution_count": 2,
   "metadata": {},
   "outputs": [
    {
     "data": {
      "text/html": [
       "<div>\n",
       "<style scoped>\n",
       "    .dataframe tbody tr th:only-of-type {\n",
       "        vertical-align: middle;\n",
       "    }\n",
       "\n",
       "    .dataframe tbody tr th {\n",
       "        vertical-align: top;\n",
       "    }\n",
       "\n",
       "    .dataframe thead th {\n",
       "        text-align: right;\n",
       "    }\n",
       "</style>\n",
       "<table border=\"1\" class=\"dataframe\">\n",
       "  <thead>\n",
       "    <tr style=\"text-align: right;\">\n",
       "      <th></th>\n",
       "      <th>id</th>\n",
       "      <th>link_title</th>\n",
       "      <th>web_link</th>\n",
       "    </tr>\n",
       "  </thead>\n",
       "  <tbody>\n",
       "    <tr>\n",
       "      <th>0</th>\n",
       "      <td>21567022</td>\n",
       "      <td>Hacker Publishes 2TB of Data from Cayman Natio...</td>\n",
       "      <td>twitter.com</td>\n",
       "    </tr>\n",
       "    <tr>\n",
       "      <th>1</th>\n",
       "      <td>21577156</td>\n",
       "      <td>How to recognize AI snake oil [pdf]</td>\n",
       "      <td>www.cs.princeton.edu</td>\n",
       "    </tr>\n",
       "    <tr>\n",
       "      <th>2</th>\n",
       "      <td>21572622</td>\n",
       "      <td>Tools we used to create a hit HTML5 game on Steam</td>\n",
       "      <td>www.codecks.io</td>\n",
       "    </tr>\n",
       "    <tr>\n",
       "      <th>3</th>\n",
       "      <td>21567481</td>\n",
       "      <td>How Containers Work: Overlayfs</td>\n",
       "      <td>jvns.ca</td>\n",
       "    </tr>\n",
       "    <tr>\n",
       "      <th>4</th>\n",
       "      <td>21567556</td>\n",
       "      <td>Sourcetrail, interactive source explorer, is n...</td>\n",
       "      <td>www.sourcetrail.com</td>\n",
       "    </tr>\n",
       "  </tbody>\n",
       "</table>\n",
       "</div>"
      ],
      "text/plain": [
       "         id                                         link_title  \\\n",
       "0  21567022  Hacker Publishes 2TB of Data from Cayman Natio...   \n",
       "1  21577156                How to recognize AI snake oil [pdf]   \n",
       "2  21572622  Tools we used to create a hit HTML5 game on Steam   \n",
       "3  21567481                     How Containers Work: Overlayfs   \n",
       "4  21567556  Sourcetrail, interactive source explorer, is n...   \n",
       "\n",
       "               web_link  \n",
       "0           twitter.com  \n",
       "1  www.cs.princeton.edu  \n",
       "2        www.codecks.io  \n",
       "3               jvns.ca  \n",
       "4   www.sourcetrail.com  "
      ]
     },
     "execution_count": 2,
     "metadata": {},
     "output_type": "execute_result"
    }
   ],
   "source": [
    "# Load the Pandas libraries with alias 'pd' \n",
    "import pandas as pd \n",
    "# Read data from file 'filename.csv' \n",
    "# (in the same directory that your python process is based)\n",
    "\n",
    "# Control delimiters, rows, column names with read_csv (see later) \n",
    "data1 = pd.read_csv(\"hacker_news_1.csv\") \n",
    "# Preview the first 5 lines of the loaded data \n",
    "data1.head()"
   ]
  },
  {
   "cell_type": "code",
   "execution_count": 3,
   "metadata": {},
   "outputs": [
    {
     "data": {
      "text/html": [
       "<div>\n",
       "<style scoped>\n",
       "    .dataframe tbody tr th:only-of-type {\n",
       "        vertical-align: middle;\n",
       "    }\n",
       "\n",
       "    .dataframe tbody tr th {\n",
       "        vertical-align: top;\n",
       "    }\n",
       "\n",
       "    .dataframe thead th {\n",
       "        text-align: right;\n",
       "    }\n",
       "</style>\n",
       "<table border=\"1\" class=\"dataframe\">\n",
       "  <thead>\n",
       "    <tr style=\"text-align: right;\">\n",
       "      <th></th>\n",
       "      <th>id</th>\n",
       "      <th>points</th>\n",
       "    </tr>\n",
       "  </thead>\n",
       "  <tbody>\n",
       "    <tr>\n",
       "      <th>0</th>\n",
       "      <td>21567022</td>\n",
       "      <td>1543</td>\n",
       "    </tr>\n",
       "    <tr>\n",
       "      <th>1</th>\n",
       "      <td>21577156</td>\n",
       "      <td>894</td>\n",
       "    </tr>\n",
       "    <tr>\n",
       "      <th>2</th>\n",
       "      <td>21572622</td>\n",
       "      <td>629</td>\n",
       "    </tr>\n",
       "    <tr>\n",
       "      <th>3</th>\n",
       "      <td>21567481</td>\n",
       "      <td>575</td>\n",
       "    </tr>\n",
       "    <tr>\n",
       "      <th>4</th>\n",
       "      <td>21567556</td>\n",
       "      <td>356</td>\n",
       "    </tr>\n",
       "  </tbody>\n",
       "</table>\n",
       "</div>"
      ],
      "text/plain": [
       "         id  points\n",
       "0  21567022    1543\n",
       "1  21577156     894\n",
       "2  21572622     629\n",
       "3  21567481     575\n",
       "4  21567556     356"
      ]
     },
     "execution_count": 3,
     "metadata": {},
     "output_type": "execute_result"
    }
   ],
   "source": [
    "# Control delimiters, rows, column names with read_csv (see later) \n",
    "data2 = pd.read_csv(\"hacker_news_2.csv\") \n",
    "# Preview the first 5 lines of the loaded data \n",
    "data2.head()"
   ]
  },
  {
   "cell_type": "code",
   "execution_count": 4,
   "metadata": {},
   "outputs": [
    {
     "data": {
      "text/html": [
       "<div>\n",
       "<style scoped>\n",
       "    .dataframe tbody tr th:only-of-type {\n",
       "        vertical-align: middle;\n",
       "    }\n",
       "\n",
       "    .dataframe tbody tr th {\n",
       "        vertical-align: top;\n",
       "    }\n",
       "\n",
       "    .dataframe thead th {\n",
       "        text-align: right;\n",
       "    }\n",
       "</style>\n",
       "<table border=\"1\" class=\"dataframe\">\n",
       "  <thead>\n",
       "    <tr style=\"text-align: right;\">\n",
       "      <th></th>\n",
       "      <th>id</th>\n",
       "      <th>link_title</th>\n",
       "      <th>web_link</th>\n",
       "      <th>points</th>\n",
       "    </tr>\n",
       "  </thead>\n",
       "  <tbody>\n",
       "    <tr>\n",
       "      <th>0</th>\n",
       "      <td>21567022</td>\n",
       "      <td>Hacker Publishes 2TB of Data from Cayman Natio...</td>\n",
       "      <td>twitter.com</td>\n",
       "      <td>1543</td>\n",
       "    </tr>\n",
       "    <tr>\n",
       "      <th>1</th>\n",
       "      <td>21577156</td>\n",
       "      <td>How to recognize AI snake oil [pdf]</td>\n",
       "      <td>www.cs.princeton.edu</td>\n",
       "      <td>894</td>\n",
       "    </tr>\n",
       "    <tr>\n",
       "      <th>2</th>\n",
       "      <td>21572622</td>\n",
       "      <td>Tools we used to create a hit HTML5 game on Steam</td>\n",
       "      <td>www.codecks.io</td>\n",
       "      <td>629</td>\n",
       "    </tr>\n",
       "    <tr>\n",
       "      <th>3</th>\n",
       "      <td>21567481</td>\n",
       "      <td>How Containers Work: Overlayfs</td>\n",
       "      <td>jvns.ca</td>\n",
       "      <td>575</td>\n",
       "    </tr>\n",
       "    <tr>\n",
       "      <th>4</th>\n",
       "      <td>21567556</td>\n",
       "      <td>Sourcetrail, interactive source explorer, is n...</td>\n",
       "      <td>www.sourcetrail.com</td>\n",
       "      <td>356</td>\n",
       "    </tr>\n",
       "  </tbody>\n",
       "</table>\n",
       "</div>"
      ],
      "text/plain": [
       "         id                                         link_title  \\\n",
       "0  21567022  Hacker Publishes 2TB of Data from Cayman Natio...   \n",
       "1  21577156                How to recognize AI snake oil [pdf]   \n",
       "2  21572622  Tools we used to create a hit HTML5 game on Steam   \n",
       "3  21567481                     How Containers Work: Overlayfs   \n",
       "4  21567556  Sourcetrail, interactive source explorer, is n...   \n",
       "\n",
       "               web_link  points  \n",
       "0           twitter.com    1543  \n",
       "1  www.cs.princeton.edu     894  \n",
       "2        www.codecks.io     629  \n",
       "3               jvns.ca     575  \n",
       "4   www.sourcetrail.com     356  "
      ]
     },
     "execution_count": 4,
     "metadata": {},
     "output_type": "execute_result"
    }
   ],
   "source": [
    "#Do a full outer join on the id field\n",
    "data_joined = pd.merge(data1, data2, on='id', how='outer')\n",
    "\n",
    "#Now we have the points associated with the title\n",
    "data_joined.head()"
   ]
  },
  {
   "cell_type": "code",
   "execution_count": 5,
   "metadata": {},
   "outputs": [
    {
     "data": {
      "text/html": [
       "<div>\n",
       "<style scoped>\n",
       "    .dataframe tbody tr th:only-of-type {\n",
       "        vertical-align: middle;\n",
       "    }\n",
       "\n",
       "    .dataframe tbody tr th {\n",
       "        vertical-align: top;\n",
       "    }\n",
       "\n",
       "    .dataframe thead th {\n",
       "        text-align: right;\n",
       "    }\n",
       "</style>\n",
       "<table border=\"1\" class=\"dataframe\">\n",
       "  <thead>\n",
       "    <tr style=\"text-align: right;\">\n",
       "      <th></th>\n",
       "      <th>id</th>\n",
       "      <th>link_title</th>\n",
       "      <th>web_link</th>\n",
       "      <th>points</th>\n",
       "    </tr>\n",
       "  </thead>\n",
       "  <tbody>\n",
       "    <tr>\n",
       "      <th>5190</th>\n",
       "      <td>20052623</td>\n",
       "      <td>Switch from Chrome to Firefox</td>\n",
       "      <td>www.mozilla.org</td>\n",
       "      <td>3287</td>\n",
       "    </tr>\n",
       "    <tr>\n",
       "      <th>6300</th>\n",
       "      <td>19728132</td>\n",
       "      <td>I Sell Onions on the Internet</td>\n",
       "      <td>www.deepsouthventures.com</td>\n",
       "      <td>3015</td>\n",
       "    </tr>\n",
       "    <tr>\n",
       "      <th>9480</th>\n",
       "      <td>18847043</td>\n",
       "      <td>Announcing unlimited free private repos</td>\n",
       "      <td>blog.github.com</td>\n",
       "      <td>2867</td>\n",
       "    </tr>\n",
       "    <tr>\n",
       "      <th>7500</th>\n",
       "      <td>19393279</td>\n",
       "      <td>Show HN: A retro video game console I've been ...</td>\n",
       "      <td>internalregister.github.io</td>\n",
       "      <td>2690</td>\n",
       "    </tr>\n",
       "    <tr>\n",
       "      <th>1260</th>\n",
       "      <td>21190265</td>\n",
       "      <td>Blizzard Suspends Professional Hearthstone Pla...</td>\n",
       "      <td>playhearthstone.com</td>\n",
       "      <td>2525</td>\n",
       "    </tr>\n",
       "  </tbody>\n",
       "</table>\n",
       "</div>"
      ],
      "text/plain": [
       "            id                                         link_title  \\\n",
       "5190  20052623                      Switch from Chrome to Firefox   \n",
       "6300  19728132                      I Sell Onions on the Internet   \n",
       "9480  18847043            Announcing unlimited free private repos   \n",
       "7500  19393279  Show HN: A retro video game console I've been ...   \n",
       "1260  21190265  Blizzard Suspends Professional Hearthstone Pla...   \n",
       "\n",
       "                        web_link  points  \n",
       "5190             www.mozilla.org    3287  \n",
       "6300   www.deepsouthventures.com    3015  \n",
       "9480             blog.github.com    2867  \n",
       "7500  internalregister.github.io    2690  \n",
       "1260         playhearthstone.com    2525  "
      ]
     },
     "execution_count": 5,
     "metadata": {},
     "output_type": "execute_result"
    }
   ],
   "source": [
    "data_sorted = data_joined.sort_values(by=['points'], ascending=False)\n",
    "#print(data_joined.columns.values)\n",
    "data_sorted.head()"
   ]
  },
  {
   "cell_type": "code",
   "execution_count": 6,
   "metadata": {},
   "outputs": [
    {
     "data": {
      "text/plain": [
       "(10920, 4)"
      ]
     },
     "execution_count": 6,
     "metadata": {},
     "output_type": "execute_result"
    }
   ],
   "source": [
    "# How big is this data set?\n",
    "data_sorted.shape"
   ]
  },
  {
   "cell_type": "code",
   "execution_count": 7,
   "metadata": {},
   "outputs": [],
   "source": [
    "# Now write the sorted, poset process scraped into to file and save to disk\n",
    "data_sorted.to_csv(r'hacker_news_post_process.csv')"
   ]
  }
 ],
 "metadata": {
  "kernelspec": {
   "display_name": "Python 3",
   "language": "python",
   "name": "python3"
  },
  "language_info": {
   "codemirror_mode": {
    "name": "ipython",
    "version": 3
   },
   "file_extension": ".py",
   "mimetype": "text/x-python",
   "name": "python",
   "nbconvert_exporter": "python",
   "pygments_lexer": "ipython3",
   "version": "3.7.3"
  }
 },
 "nbformat": 4,
 "nbformat_minor": 2
}
